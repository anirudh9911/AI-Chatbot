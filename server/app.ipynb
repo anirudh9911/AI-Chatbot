{
 "cells": [
  {
   "cell_type": "code",
   "execution_count": 131,
   "metadata": {},
   "outputs": [],
   "source": [
    "from typing import TypedDict, Annotated, Optional\n",
    "from langgraph.graph import add_messages, StateGraph, END\n",
    "from langchain_openai import ChatOpenAI\n",
    "from dotenv import load_dotenv\n",
    "from langchain_community.tools.tavily_search import TavilySearchResults\n",
    "from langgraph.checkpoint.memory import MemorySaver\n",
    "from uuid import uuid4\n",
    "import json\n",
    "\n",
    "load_dotenv()\n",
    "\n",
    "model = ChatOpenAI(model=\"gpt-4o\")"
   ]
  },
  {
   "cell_type": "code",
   "execution_count": 3,
   "metadata": {},
   "outputs": [],
   "source": [
    "search_tool = TavilySearchResults(max_results=4)\n",
    "\n",
    "tools = [search_tool]\n",
    "\n",
    "memory = MemorySaver()"
   ]
  },
  {
   "cell_type": "code",
   "execution_count": 132,
   "metadata": {},
   "outputs": [],
   "source": [
    "llm_with_tools = model.bind_tools(tools=tools)"
   ]
  },
  {
   "cell_type": "code",
   "execution_count": 133,
   "metadata": {},
   "outputs": [],
   "source": [
    "from langchain_core.messages import AIMessage, HumanMessage, ToolMessage\n",
    "\n",
    "class State(TypedDict):\n",
    "    messages: Annotated[list, add_messages]\n",
    "\n",
    "async def model(state: State):\n",
    "    result = await llm_with_tools.ainvoke(state[\"messages\"])\n",
    "    return {\n",
    "        \"messages\": [result], \n",
    "    }\n",
    "\n",
    "async def tools_router(state: State):\n",
    "    last_message = state[\"messages\"][-1]\n",
    "\n",
    "    if(hasattr(last_message, \"tool_calls\") and len(last_message.tool_calls) > 0):\n",
    "        return \"tool_node\"\n",
    "    else: \n",
    "        return END\n",
    "    \n",
    "async def tool_node(state):\n",
    "    \"\"\"Custom tool node that handles tool calls from the LLM.\"\"\"\n",
    "    # Get the tool calls from the last message\n",
    "    tool_calls = state[\"messages\"][-1].tool_calls\n",
    "    \n",
    "    # Initialize list to store tool messages\n",
    "    tool_messages = []\n",
    "    \n",
    "    # Process each tool call\n",
    "    for tool_call in tool_calls:\n",
    "        tool_name = tool_call[\"name\"]\n",
    "        tool_args = tool_call[\"args\"]\n",
    "        tool_id = tool_call[\"id\"]\n",
    "        \n",
    "        # Handle the search tool\n",
    "        if tool_name == \"tavily_search_results_json\":\n",
    "            # Execute the search tool with the provided arguments\n",
    "            search_results = await search_tool.ainvoke(tool_args)\n",
    "            \n",
    "            # Create a ToolMessage for this result\n",
    "            tool_message = ToolMessage(\n",
    "                content=str(search_results),\n",
    "                tool_call_id=tool_id,\n",
    "                name=tool_name\n",
    "            )\n",
    "            \n",
    "            tool_messages.append(tool_message)\n",
    "    \n",
    "    # Add the tool messages to the state\n",
    "    return {\"messages\": tool_messages}\n",
    "\n",
    "graph_builder = StateGraph(State)\n",
    "\n",
    "graph_builder.add_node(\"model\", model)\n",
    "graph_builder.add_node(\"tool_node\", tool_node)\n",
    "graph_builder.set_entry_point(\"model\")\n",
    "\n",
    "graph_builder.add_conditional_edges(\"model\", tools_router)\n",
    "graph_builder.add_edge(\"tool_node\", \"model\")\n",
    "\n",
    "graph = graph_builder.compile(checkpointer=memory)\n"
   ]
  },
  {
   "cell_type": "code",
   "execution_count": 134,
   "metadata": {},
   "outputs": [
    {
     "data": {
      "image/png": "[encoded data removed]",
      "text/plain": [
       "<IPython.core.display.Image object>"
      ]
     },
     "metadata": {},
     "output_type": "display_data"
    }
   ],
   "source": [
    "from IPython.display import Image, display\n",
    "from langchain_core.runnables.graph import MermaidDrawMethod\n",
    "\n",
    "display(\n",
    "    Image(\n",
    "        graph.get_graph().draw_mermaid_png(\n",
    "            draw_method=MermaidDrawMethod.API\n",
    "        )\n",
    "    )\n",
    ")"
   ]
  },
  {
   "cell_type": "code",
   "execution_count": 135,
   "metadata": {},
   "outputs": [
    {
     "data": {
      "text/plain": [
       "{'messages': [HumanMessage(content='When is the next spaceX launch?', additional_kwargs={}, response_metadata={}, id='f5a71b3c-c28b-47fd-8f7b-7fa00124ded9'),\n",
       "  AIMessage(content='', additional_kwargs={'tool_calls': [{'id': 'call_h57otio1H2tVoI8Qvkz2V1EZ', 'function': {'arguments': '{\"query\":\"next SpaceX launch schedule\"}', 'name': 'tavily_search_results_json'}, 'type': 'function'}], 'refusal': None}, response_metadata={'token_usage': {'completion_tokens': 22, 'prompt_tokens': 87, 'total_tokens': 109, 'completion_tokens_details': {'accepted_prediction_tokens': 0, 'audio_tokens': 0, 'reasoning_tokens': 0, 'rejected_prediction_tokens': 0}, 'prompt_tokens_details': {'audio_tokens': 0, 'cached_tokens': 0}}, 'model_name': 'gpt-4o-2024-08-06', 'system_fingerprint': None, 'id': 'chatcmpl-BshVvOEObuL3gvn3I3iBAvLj7fQRU', 'service_tier': 'default', 'finish_reason': 'tool_calls', 'logprobs': None}, id='run--b1c3277c-7866-485f-8f49-09a1162b8cef-0', tool_calls=[{'name': 'tavily_search_results_json', 'args': {'query': 'next SpaceX launch schedule'}, 'id': 'call_h57otio1H2tVoI8Qvkz2V1EZ', 'type': 'tool_call'}], usage_metadata={'input_tokens': 87, 'output_tokens': 22, 'total_tokens': 109, 'input_token_details': {'audio': 0, 'cache_read': 0}, 'output_token_details': {'audio': 0, 'reasoning': 0}}),\n",
       "  ToolMessage(content='[{\\'title\\': \\'Next Spaceflight | Rocket Launch Schedule\\', \\'url\\': \\'https://nextspaceflight.com/\\', \\'content\\': \\'Next Spaceflight | Rocket Launch Schedule\\\\n\\\\n===============\\\\n\\\\nNEXT SPACEFLIGHTLaunchesEventsStarshipRocketsReuseLocations\\\\n\\\\nNEXT SPACEFLIGHTImage 1 LaunchesImage 2 EventsImage 3 StarshipImage 4 RocketsImage 5 ReuseImage 6 Locations\\\\n\\\\n SpaceX \\\\n\\\\n##### Falcon 9 Block 5 | Dror-1? (\"Commercial GTO 1\")\\\\n\\\\n ASDS \\\\n\\\\nSun Jul 13, 2025 04:31 UTC\\\\n\\\\nSLC-40, Cape Canaveral SFS, Florida, USA \\\\n\\\\nDetails\\\\n\\\\n SpaceX \\\\n\\\\n##### Falcon 9 Block 5 | Starlink Group 15-2\\\\n\\\\n OCISLY \\\\n\\\\nMon Jul 14, 2025 02:27 UTC [...] SLC-4E, Vandenberg SFB, California, USA \\\\n\\\\nDetails\\\\n\\\\n CASC \\\\n\\\\n##### Long March 7 | Tianzhou 9\\\\n\\\\nMon Jul 14, 2025 21:40 UTC\\\\n\\\\nLC-201, Wenchang Space Launch Site, China \\\\n\\\\nDetails\\\\n\\\\nAll LaunchesSpaceXRocket LabBlue OriginULAArianespaceISRORoscosmos\\\\n\\\\nImage 7: Get it on Google Play\\\\n\\\\nImage 8: Get it on the App Store\\\\n\\\\n### Latest News\\\\n\\\\nImage 9: Halfway through 2025, SpaceX breaks Falcon records and struggles with Starship\\\\n\\\\n##### Halfway through 2025, SpaceX breaks Falcon records and struggles with Starship\\', \\'score\\': 0.8573986}, {\\'title\\': \\'SpaceX officially announced Starship Flight 10 Launch Date after ...\\', \\'url\\': \\'https://www.youtube.com/watch?v=sUh2x21tJ2I\\', \\'content\\': \"Every effort is being directed toward resuming tests and preparing for the next launch as soon as possible.\\\\nIn that process, some promising news has just arrived for SpaceX. A recently leaked FCC notice has revealed a new estimated timeline for the upcoming Starship Test Flight 10 mission. The document clearly states the purpose of the operation, and the most important detail within it is the Operation Start Date, which is currently listed as August 4, 2025. [...] coming days looks very promising. Of course, this still depends on the completion of all installations and verifications at pad A, but the momentum is clearly building. We are now incredibly close to witnessing another powerful static fire test at Starbase. Get ready because that moment is just around the corner. And for our final update of today\\'s episode, the next Crew Dragon mission, Crew 11, is officially on the schedule. NASA and SpaceX are targeting July 31st, 2025 for launch to the\", \\'score\\': 0.8286204}, {\\'title\\': \\'Launch Schedule - Spaceflight Now\\', \\'url\\': \\'https://spaceflightnow.com/launch-schedule/\\', \\'content\\': \\'which, $256.6 million was awarded to SpaceX to provide launch services and other mission related costs. The 20-day launch window opens on July 5, 2028. [...] A SpaceX Falcon 9 rocket will launch a Cargo Dragon spacecraft with thousands of pounds of science and supplies to the International Space Station. Its launch date is being driven by the launch of the SpaceX Crew-11 flight to the ISS, which is scheduled for late July or early August as of July 3, as well as the departure of Crew-10. The Dragon flying this mission will include a new propulsion system within the vehicle’s trunk that will allow it to perform a boost of the space station. This is a [...] [[ July 8, 2025 ] SpaceX launches 28 Starlink satellites on Falcon 9 rocket from Cape Canaveral Falcon 9]( \"SpaceX launches 28 Starlink satellites on Falcon 9 rocket from Cape Canaveral\")\\\\n   [[ July 5, 2025 ] Republican-backed reconciliation bill passes, includes funding for ISS, Artemis programs, Space Shuttle relocation Mission Reports]( \"Republican-backed reconciliation bill passes, includes funding for ISS, Artemis programs, Space Shuttle relocation\")\\', \\'score\\': 0.81595254}, {\\'title\\': \\'SpaceX Launch Schedule - RocketLaunch.Live\\', \\'url\\': \\'https://www.rocketlaunch.live/?filter=spacex\\', \\'content\\': \\'#### Falcon Heavy\\\\n\\\\nSpaceX\\\\n\\\\n LC-39A, Kennedy Space Center\\\\n\\\\nFlorida, United States\\\\n\\\\nJUN 19 2024\\\\n\\\\n2025\")\\\\n\\\\n#### ASLON-45\")\\\\n\\\\n#### Ravn\\\\n\\\\nAevum\\\\n\\\\n Pad TBD, United States TBD\\\\n\\\\nUnited States\\\\n\\\\nVector relinquishes Air Force launch contract, mission re-awarded to Aevum (SpaceNews)\\\\n\\\\nAir Launch\\\\n\\\\nJUL 11 2024\\\\n\\\\n2025\")\\\\n\\\\n#### GO-1 Mission\")\\\\n\\\\n#### Ariane 6\\\\n\\\\nArianespace\\\\n\\\\n ELA-4, Guiana Space Centre\\\\n\\\\nFrench Guiana\\\\n\\\\nJAN 16\\\\n\\\\n2025\")\\\\n\\\\n#### Optus-11\")\\\\n\\\\n#### Ariane 6\\\\n\\\\nArianespace\\\\n\\\\n ELA-4, Guiana Space Centre [...] DEC 08 2023\\\\n\\\\n2025\")\\\\n\\\\n#### SKY Perfect JSAT\")\\\\n\\\\n#### New Glenn\\\\n\\\\nBlue Origin\\\\n\\\\n LC-36, Cape Canaveral SFS\\\\n\\\\nFlorida, United States\\\\n\\\\nDEC 08 2023\\\\n\\\\n2025\")\\\\n\\\\n#### MicroCarb\")\\\\n\\\\n#### Vega C\\\\n\\\\nArianespace\\\\n\\\\n ELA-1, Guiana Space Centre\\\\n\\\\nFrench Guiana\\\\n\\\\nPlanetary Science\\\\n\\\\nJAN 16\\\\n\\\\n2025\")\\\\n\\\\n#### RISAT-2A\")\\\\n\\\\n#### PSLV\\\\n\\\\nISRO\\\\n\\\\n TBD, Satish Dhawan Space Centre\\\\n\\\\nIndia\\\\n\\\\nEarth Observation Satellite\\\\n\\\\nOCT 26 2024\\\\n\\\\n2025\")\\\\n\\\\n#### CARBONITE-4\")\\\\n\\\\n#### Alpha\\\\n\\\\nFirefly\\\\n\\\\n SLC-2W, Vandenberg SFB\\\\n\\\\nCalifornia, United States [...] JAN 08  Starlink-221 (12-11) Mission (Falcon 9)\")  \\\\n    JAN 06  Starlink-220 (6-71) Mission (Falcon 9)\")  \\\\n    JAN 06  Shijian 25\")  \\\\n    JAN 04  Thuraya 4-NGS\")  \\\\n    DEC 31 2024  Starlink-219 (12-6) Mission (Falcon 9)\")  \\\\n    DEC 30 2024  SPADEX (with POEM-4) Mission (PSLV)\")  \\\\n    DEC 29 2024  \"From One to Many\"\")  \\\\n    DEC 29 2024  Starlink-218 (11-3) Mission (Falcon 9)\")  \\\\n    DEC 27 2024  DEAR-3\")  \\\\n    DEC 25 2024  Resurs-P No. 5\")\\', \\'score\\': 0.7997713}]', name='tavily_search_results_json', id='a0100980-f844-478b-b8f3-01b441ac8aa8', tool_call_id='call_h57otio1H2tVoI8Qvkz2V1EZ'),\n",
       "  AIMessage(content='The next SpaceX launch is scheduled for July 13, 2025. This will be a Falcon 9 Block 5 rocket launching the Dror-1 (\"Commercial GTO 1\") mission from SLC-40, Cape Canaveral SFS, Florida, USA.', additional_kwargs={'refusal': None}, response_metadata={'token_usage': {'completion_tokens': 59, 'prompt_tokens': 1680, 'total_tokens': 1739, 'completion_tokens_details': {'accepted_prediction_tokens': 0, 'audio_tokens': 0, 'reasoning_tokens': 0, 'rejected_prediction_tokens': 0}, 'prompt_tokens_details': {'audio_tokens': 0, 'cached_tokens': 0}}, 'model_name': 'gpt-4o-2024-08-06', 'system_fingerprint': None, 'id': 'chatcmpl-BshW0CSa1Mu2wBt04ZeEFjvX9JKlV', 'service_tier': 'default', 'finish_reason': 'stop', 'logprobs': None}, id='run--634773d8-17ba-485a-afc9-9341c6998cb8-0', usage_metadata={'input_tokens': 1680, 'output_tokens': 59, 'total_tokens': 1739, 'input_token_details': {'audio': 0, 'cache_read': 0}, 'output_token_details': {'audio': 0, 'reasoning': 0}})]}"
      ]
     },
     "execution_count": 135,
     "metadata": {},
     "output_type": "execute_result"
    }
   ],
   "source": [
    "config = {\n",
    "    \"configurable\": {\n",
    "        \"thread_id\": 5\n",
    "    }\n",
    "}\n",
    "\n",
    "response = await graph.ainvoke({\n",
    "    \"messages\": [HumanMessage(content=\"When is the next spaceX launch?\")], \n",
    "}, config=config)\n",
    "\n",
    "response"
   ]
  },
  {
   "cell_type": "code",
   "execution_count": 136,
   "metadata": {},
   "outputs": [
    {
     "name": "stdout",
     "output_type": "stream",
     "text": [
      "{'event': 'on_chain_start', 'data': {'input': {'messages': [HumanMessage(content='Hi, my name is Anirudh', additional_kwargs={}, response_metadata={})]}}, 'name': 'LangGraph', 'tags': [], 'run_id': 'e6f74157-f53f-47ca-abd7-e147fe800c9f', 'metadata': {'thread_id': 8}, 'parent_ids': []}\n",
      "{'event': 'on_chain_start', 'data': {'input': {'messages': [HumanMessage(content='Hi, my name is Anirudh', additional_kwargs={}, response_metadata={}, id='e3ee3938-93d1-4a54-84f0-c75e425de0ac')]}}, 'name': 'model', 'tags': ['graph:step:1'], 'run_id': '30f3c8c2-6846-4eb8-8ae3-670e894c60f6', 'metadata': {'thread_id': 8, 'langgraph_step': 1, 'langgraph_node': 'model', 'langgraph_triggers': ('branch:to:model',), 'langgraph_path': ('__pregel_pull', 'model'), 'langgraph_checkpoint_ns': 'model:455cd414-02f7-4353-6d26-486138bd74f5'}, 'parent_ids': ['e6f74157-f53f-47ca-abd7-e147fe800c9f']}\n",
      "{'event': 'on_chain_start', 'data': {'input': {'messages': [HumanMessage(content='Hi, my name is Anirudh', additional_kwargs={}, response_metadata={}, id='e3ee3938-93d1-4a54-84f0-c75e425de0ac'), AIMessage(content='Hello Anirudh! How can I assist you today?', additional_kwargs={'refusal': None}, response_metadata={'token_usage': {'completion_tokens': 13, 'prompt_tokens': 87, 'total_tokens': 100, 'completion_tokens_details': {'accepted_prediction_tokens': 0, 'audio_tokens': 0, 'reasoning_tokens': 0, 'rejected_prediction_tokens': 0}, 'prompt_tokens_details': {'audio_tokens': 0, 'cached_tokens': 0}}, 'model_name': 'gpt-4o-2024-08-06', 'system_fingerprint': None, 'id': 'chatcmpl-BshWYR5nCM9WXpzlI2xyTXghtdCTR', 'service_tier': 'default', 'finish_reason': 'stop', 'logprobs': None}, id='run--77cd3ee3-63df-43f7-aa0e-d1d45c387545-0', usage_metadata={'input_tokens': 87, 'output_tokens': 13, 'total_tokens': 100, 'input_token_details': {'audio': 0, 'cache_read': 0}, 'output_token_details': {'audio': 0, 'reasoning': 0}})]}}, 'name': 'tools_router', 'tags': ['seq:step:3'], 'run_id': '14c45592-a38a-4083-b170-cb9638f0639f', 'metadata': {'thread_id': 8, 'langgraph_step': 1, 'langgraph_node': 'model', 'langgraph_triggers': ('branch:to:model',), 'langgraph_path': ('__pregel_pull', 'model'), 'langgraph_checkpoint_ns': 'model:455cd414-02f7-4353-6d26-486138bd74f5'}, 'parent_ids': ['e6f74157-f53f-47ca-abd7-e147fe800c9f', '30f3c8c2-6846-4eb8-8ae3-670e894c60f6']}\n",
      "{'event': 'on_chain_end', 'data': {'output': '__end__', 'input': {'messages': [HumanMessage(content='Hi, my name is Anirudh', additional_kwargs={}, response_metadata={}, id='e3ee3938-93d1-4a54-84f0-c75e425de0ac'), AIMessage(content='Hello Anirudh! How can I assist you today?', additional_kwargs={'refusal': None}, response_metadata={'token_usage': {'completion_tokens': 13, 'prompt_tokens': 87, 'total_tokens': 100, 'completion_tokens_details': {'accepted_prediction_tokens': 0, 'audio_tokens': 0, 'reasoning_tokens': 0, 'rejected_prediction_tokens': 0}, 'prompt_tokens_details': {'audio_tokens': 0, 'cached_tokens': 0}}, 'model_name': 'gpt-4o-2024-08-06', 'system_fingerprint': None, 'id': 'chatcmpl-BshWYR5nCM9WXpzlI2xyTXghtdCTR', 'service_tier': 'default', 'finish_reason': 'stop', 'logprobs': None}, id='run--77cd3ee3-63df-43f7-aa0e-d1d45c387545-0', usage_metadata={'input_tokens': 87, 'output_tokens': 13, 'total_tokens': 100, 'input_token_details': {'audio': 0, 'cache_read': 0}, 'output_token_details': {'audio': 0, 'reasoning': 0}})]}}, 'run_id': '14c45592-a38a-4083-b170-cb9638f0639f', 'name': 'tools_router', 'tags': ['seq:step:3'], 'metadata': {'thread_id': 8, 'langgraph_step': 1, 'langgraph_node': 'model', 'langgraph_triggers': ('branch:to:model',), 'langgraph_path': ('__pregel_pull', 'model'), 'langgraph_checkpoint_ns': 'model:455cd414-02f7-4353-6d26-486138bd74f5'}, 'parent_ids': ['e6f74157-f53f-47ca-abd7-e147fe800c9f', '30f3c8c2-6846-4eb8-8ae3-670e894c60f6']}\n",
      "{'event': 'on_chain_stream', 'run_id': '30f3c8c2-6846-4eb8-8ae3-670e894c60f6', 'name': 'model', 'tags': ['graph:step:1'], 'metadata': {'thread_id': 8, 'langgraph_step': 1, 'langgraph_node': 'model', 'langgraph_triggers': ('branch:to:model',), 'langgraph_path': ('__pregel_pull', 'model'), 'langgraph_checkpoint_ns': 'model:455cd414-02f7-4353-6d26-486138bd74f5'}, 'data': {'chunk': {'messages': [AIMessage(content='Hello Anirudh! How can I assist you today?', additional_kwargs={'refusal': None}, response_metadata={'token_usage': {'completion_tokens': 13, 'prompt_tokens': 87, 'total_tokens': 100, 'completion_tokens_details': {'accepted_prediction_tokens': 0, 'audio_tokens': 0, 'reasoning_tokens': 0, 'rejected_prediction_tokens': 0}, 'prompt_tokens_details': {'audio_tokens': 0, 'cached_tokens': 0}}, 'model_name': 'gpt-4o-2024-08-06', 'system_fingerprint': None, 'id': 'chatcmpl-BshWYR5nCM9WXpzlI2xyTXghtdCTR', 'service_tier': 'default', 'finish_reason': 'stop', 'logprobs': None}, id='run--77cd3ee3-63df-43f7-aa0e-d1d45c387545-0', usage_metadata={'input_tokens': 87, 'output_tokens': 13, 'total_tokens': 100, 'input_token_details': {'audio': 0, 'cache_read': 0}, 'output_token_details': {'audio': 0, 'reasoning': 0}})]}}, 'parent_ids': ['e6f74157-f53f-47ca-abd7-e147fe800c9f']}\n",
      "{'event': 'on_chain_end', 'data': {'output': {'messages': [AIMessage(content='Hello Anirudh! How can I assist you today?', additional_kwargs={'refusal': None}, response_metadata={'token_usage': {'completion_tokens': 13, 'prompt_tokens': 87, 'total_tokens': 100, 'completion_tokens_details': {'accepted_prediction_tokens': 0, 'audio_tokens': 0, 'reasoning_tokens': 0, 'rejected_prediction_tokens': 0}, 'prompt_tokens_details': {'audio_tokens': 0, 'cached_tokens': 0}}, 'model_name': 'gpt-4o-2024-08-06', 'system_fingerprint': None, 'id': 'chatcmpl-BshWYR5nCM9WXpzlI2xyTXghtdCTR', 'service_tier': 'default', 'finish_reason': 'stop', 'logprobs': None}, id='run--77cd3ee3-63df-43f7-aa0e-d1d45c387545-0', usage_metadata={'input_tokens': 87, 'output_tokens': 13, 'total_tokens': 100, 'input_token_details': {'audio': 0, 'cache_read': 0}, 'output_token_details': {'audio': 0, 'reasoning': 0}})]}, 'input': {'messages': [HumanMessage(content='Hi, my name is Anirudh', additional_kwargs={}, response_metadata={}, id='e3ee3938-93d1-4a54-84f0-c75e425de0ac')]}}, 'run_id': '30f3c8c2-6846-4eb8-8ae3-670e894c60f6', 'name': 'model', 'tags': ['graph:step:1'], 'metadata': {'thread_id': 8, 'langgraph_step': 1, 'langgraph_node': 'model', 'langgraph_triggers': ('branch:to:model',), 'langgraph_path': ('__pregel_pull', 'model'), 'langgraph_checkpoint_ns': 'model:455cd414-02f7-4353-6d26-486138bd74f5'}, 'parent_ids': ['e6f74157-f53f-47ca-abd7-e147fe800c9f']}\n",
      "{'event': 'on_chain_stream', 'run_id': 'e6f74157-f53f-47ca-abd7-e147fe800c9f', 'name': 'LangGraph', 'tags': [], 'metadata': {'thread_id': 8}, 'data': {'chunk': {'model': {'messages': [AIMessage(content='Hello Anirudh! How can I assist you today?', additional_kwargs={'refusal': None}, response_metadata={'token_usage': {'completion_tokens': 13, 'prompt_tokens': 87, 'total_tokens': 100, 'completion_tokens_details': {'accepted_prediction_tokens': 0, 'audio_tokens': 0, 'reasoning_tokens': 0, 'rejected_prediction_tokens': 0}, 'prompt_tokens_details': {'audio_tokens': 0, 'cached_tokens': 0}}, 'model_name': 'gpt-4o-2024-08-06', 'system_fingerprint': None, 'id': 'chatcmpl-BshWYR5nCM9WXpzlI2xyTXghtdCTR', 'service_tier': 'default', 'finish_reason': 'stop', 'logprobs': None}, id='run--77cd3ee3-63df-43f7-aa0e-d1d45c387545-0', usage_metadata={'input_tokens': 87, 'output_tokens': 13, 'total_tokens': 100, 'input_token_details': {'audio': 0, 'cache_read': 0}, 'output_token_details': {'audio': 0, 'reasoning': 0}})]}}}, 'parent_ids': []}\n",
      "{'event': 'on_chain_end', 'data': {'output': {'messages': [HumanMessage(content='Hi, my name is Anirudh', additional_kwargs={}, response_metadata={}, id='e3ee3938-93d1-4a54-84f0-c75e425de0ac'), AIMessage(content='Hello Anirudh! How can I assist you today?', additional_kwargs={'refusal': None}, response_metadata={'token_usage': {'completion_tokens': 13, 'prompt_tokens': 87, 'total_tokens': 100, 'completion_tokens_details': {'accepted_prediction_tokens': 0, 'audio_tokens': 0, 'reasoning_tokens': 0, 'rejected_prediction_tokens': 0}, 'prompt_tokens_details': {'audio_tokens': 0, 'cached_tokens': 0}}, 'model_name': 'gpt-4o-2024-08-06', 'system_fingerprint': None, 'id': 'chatcmpl-BshWYR5nCM9WXpzlI2xyTXghtdCTR', 'service_tier': 'default', 'finish_reason': 'stop', 'logprobs': None}, id='run--77cd3ee3-63df-43f7-aa0e-d1d45c387545-0', usage_metadata={'input_tokens': 87, 'output_tokens': 13, 'total_tokens': 100, 'input_token_details': {'audio': 0, 'cache_read': 0}, 'output_token_details': {'audio': 0, 'reasoning': 0}})]}}, 'run_id': 'e6f74157-f53f-47ca-abd7-e147fe800c9f', 'name': 'LangGraph', 'tags': [], 'metadata': {'thread_id': 8}, 'parent_ids': []}\n"
     ]
    }
   ],
   "source": [
    "config = {\n",
    "    \"configurable\": {\n",
    "        \"thread_id\": 8\n",
    "    }\n",
    "}\n",
    "\n",
    "# Use async for to iterate over the async generator\n",
    "async for event in graph.astream_events({\n",
    "    \"messages\": [HumanMessage(content=\"Hi, my name is Anirudh\")],\n",
    "}, config=config, version=\"v2\"):\n",
    "    print(event)"
   ]
  }
 ],
 "metadata": {
  "kernelspec": {
   "display_name": "venv",
   "language": "python",
   "name": "python3"
  },
  "language_info": {
   "codemirror_mode": {
    "name": "ipython",
    "version": 3
   },
   "file_extension": ".py",
   "mimetype": "text/x-python",
   "name": "python",
   "nbconvert_exporter": "python",
   "pygments_lexer": "ipython3",
   "version": "3.9.6"
  }
 },
 "nbformat": 4,
 "nbformat_minor": 2
}
